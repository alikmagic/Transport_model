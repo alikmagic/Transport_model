{
 "cells": [
  {
   "cell_type": "code",
   "execution_count": null,
   "metadata": {},
   "outputs": [],
   "source": [
    "import pandas as pd\n",
    "import numpy as np\n",
    "import random\n"
   ]
  },
  {
   "cell_type": "code",
   "execution_count": null,
   "metadata": {},
   "outputs": [],
   "source": [
    "random.seed(5)"
   ]
  },
  {
   "cell_type": "code",
   "execution_count": null,
   "metadata": {},
   "outputs": [],
   "source": [
    "class Agent:\n",
    "    def __init__(self, number:int, specialization:int, qualification:int, IndustryLove:int, MoneyLove:int, Dedication:int, Laziness:int, Homeland:int):\n",
    "        self.number = number    \n",
    "        self.specialization = specialization\n",
    "        self.qualification = qualification\n",
    "        self.IndustryLove = IndustryLove\n",
    "        self.MoneyLove = MoneyLove\n",
    "        self.Dedication = Dedication\n",
    "        self.Laziness = Laziness\n",
    "        self.Homeland = Homeland\n",
    "        self.busy = 0\n",
    "\n"
   ]
  },
  {
   "cell_type": "code",
   "execution_count": null,
   "metadata": {},
   "outputs": [],
   "source": [
    "class Workplace:\n",
    "    def __init__(self, QualificationNeeded:int, Industry:int, Wage:int, Opportunities:int, District:int):\n",
    "        self.QualificationNeeded = QualificationNeeded\n",
    "        self.Industry = Industry\n",
    "        self.Wage = Wage\n",
    "        self.Opportunities = Opportunities\n",
    "        self.District = District\n",
    "        self.busy = 0\n",
    "        "
   ]
  },
  {
   "cell_type": "code",
   "execution_count": null,
   "metadata": {},
   "outputs": [],
   "source": [
    "Distritct_Amount = 20\n",
    "Distance_matrix = [[float(0)]*Distritct_Amount]*Distritct_Amount\n",
    "Distance_matrix = np.array(Distance_matrix)\n",
    "for i in range(Distritct_Amount):\n",
    "    for j in range(Distritct_Amount):\n",
    "        Distance_matrix[i][j] = (i-j)**2/1000\n",
    "Distance_matrix"
   ]
  },
  {
   "cell_type": "code",
   "execution_count": null,
   "metadata": {},
   "outputs": [],
   "source": [
    "def Utility_function(Dude:Agent, Job:Workplace, Distances:np.array):\n",
    "    utility = 0\n",
    "    if ((Dude.qualification < Job.QualificationNeeded) or (Job.busy == 1)):\n",
    "        return -10000\n",
    "    else:\n",
    "        if(Job.Industry == Dude.specialization):\n",
    "            utility = utility + Dude.IndustryLove\n",
    "        utility = utility + Dude.MoneyLove*Job.Wage + Dude.Laziness * Distances[Dude.Homeland][Job.District] + Dude.Dedication * Job.Opportunities\n",
    "    return utility"
   ]
  },
  {
   "cell_type": "code",
   "execution_count": null,
   "metadata": {},
   "outputs": [],
   "source": [
    "def Best_Answer(Dude:Agent, Jobs:np.array, Distances:np.array):\n",
    "    max = 0\n",
    "    for i in range(len(Jobs)):\n",
    "        if(Utility_function(Dude, Jobs[i], Distances) > Utility_function(Dude, Jobs[max], Distances)):\n",
    "            max = i\n",
    "    print(Jobs[max].District, '- dis', max,'- n')\n",
    "    return Jobs[max].District, max\n"
   ]
  },
  {
   "cell_type": "code",
   "execution_count": null,
   "metadata": {},
   "outputs": [],
   "source": [
    "Correspondence_matrix = [[0]*Distritct_Amount]*Distritct_Amount\n",
    "Correspondence_matrix = np.array(Correspondence_matrix)"
   ]
  },
  {
   "cell_type": "code",
   "execution_count": null,
   "metadata": {},
   "outputs": [],
   "source": [
    "#Работы\n",
    "Array_of_Jobs = []\n",
    "#Спальные районы\n",
    "for j in range(10):\n",
    "    for z in range(281):\n",
    "        Array_of_Jobs.append(Workplace(0, 1, 0.5, 0, j))\n",
    "\n",
    "    for z in range(56):\n",
    "        Array_of_Jobs.append(Workplace(1, 1, float(random.randrange(5,15,5)/5 - 1) , float(random.randrange(1,8)/10), j))\n",
    "\n",
    "    for z in range(37):\n",
    "        Array_of_Jobs.append(Workplace(2, 1, float(random.randrange(5,10,5)/10), random.random(),j))\n",
    "\n",
    "#Cмешаные районы\n",
    "for j in range(10,16):\n",
    "    for z in range(343):\n",
    "        Array_of_Jobs.append(Workplace(0, 1, 0.5, 0, j))\n",
    "\n",
    "    for z in range(155):\n",
    "        Array_of_Jobs.append(Workplace(1, 1, int(random.randrange(5,15,5)/5 - 1) , float(random.randrange(1,8)/10), j))\n",
    "\n",
    "    for z in range(125):\n",
    "        Array_of_Jobs.append(Workplace(2, 1, random.randrange(5,10,5)/10, random.random(),j))\n",
    "\n",
    "# Центральные районы\n",
    "for j in range(16,20):\n",
    "    for z in range(500):\n",
    "        Array_of_Jobs.append(Workplace(0, 1, 0.5, 0, j))\n",
    "\n",
    "    for z in range(437):\n",
    "        Array_of_Jobs.append(Workplace(1, 1, int(random.randrange(5,15,5)/5 - 1) , float(random.randrange(1,8)/10), j))\n",
    "\n",
    "    for z in range(312):\n",
    "        Array_of_Jobs.append(Workplace(2, 1, random.randrange(5,10,5)/10, random.random(),j))\n",
    "\n",
    "Array_of_Jobs = np.array(Array_of_Jobs)\n",
    "        "
   ]
  },
  {
   "cell_type": "code",
   "execution_count": null,
   "metadata": {},
   "outputs": [],
   "source": [
    "Array_of_people = []\n",
    "#Люди\n",
    "for j in range(10):\n",
    "    for z in range(450):\n",
    "        Array_of_people.append(Agent(z, int(random.randrange(5,15,5)/5 - 1) , 0, 0, 0, 0, -1, j))\n",
    "\n",
    "    for z in range(120):\n",
    "        Array_of_people.append(Agent(z, random.randrange(5,15,5)/5 - 1, 1, random.random(), random.random(), random.random(), random.random()*-1, j))\n",
    "\n",
    "    for z in range(60):\n",
    "        Array_of_people.append(Agent(z, random.randrange(5,15,5)/5 - 1, 2, random.random(), random.random(), random.random(), random.random()*-1, j))\n",
    "\n",
    "\n",
    "#Cмешаные районы\n",
    "for j in range(10,16):\n",
    "    for z in range(300):\n",
    "        Array_of_people.append(Agent(z, random.randrange(5,15,5)/5 - 1, 0, 0, 0, 0, -1, j))\n",
    "\n",
    "    for z in range(125):\n",
    "        Array_of_people.append(Agent(z, random.randrange(5,15,5)/5 - 1, 1, random.random(), random.random(), random.random(), random.random()*-1, j))\n",
    "\n",
    "    for z in range(75):\n",
    "        Array_of_people.append(Agent(z, random.randrange(5,15,5)/5 - 1, 2, random.random(), random.random(), random.random(), random.random()*-1, j))\n",
    "\n",
    "\n",
    "# Центральные районы\n",
    "for j in range(16,20):\n",
    "    for z in range(100):\n",
    "        Array_of_people.append(Agent(z, random.randrange(5,15,5)/5 - 1, 0, 0, 0, 0, -1, j))\n",
    "\n",
    "\n",
    "    for z in range(75):\n",
    "        Array_of_people.append(Agent(z, random.randrange(5,15,5)/5 - 1, 1, random.random(), random.random(), random.random(), random.random()*-1, j))\n",
    "\n",
    "\n",
    "    for z in range(75):\n",
    "        Array_of_people.append(Agent(z, random.randrange(5,15,5)/5 - 1, 2, random.random(), random.random(), random.random(), random.random()*-1, j))\n",
    "\n"
   ]
  },
  {
   "cell_type": "code",
   "execution_count": null,
   "metadata": {},
   "outputs": [],
   "source": [
    "xd = []\n",
    "for i in range(len(Array_of_Jobs)):\n",
    "    xd.append(Array_of_Jobs[i].busy)"
   ]
  },
  {
   "cell_type": "code",
   "execution_count": null,
   "metadata": {},
   "outputs": [],
   "source": [
    "x = range(len(Array_of_people))\n",
    "x = random.sample(x,len(Array_of_people))"
   ]
  },
  {
   "cell_type": "code",
   "execution_count": null,
   "metadata": {},
   "outputs": [],
   "source": [
    "for i in x:\n",
    "    d,n = Best_Answer(Array_of_people[i], Array_of_Jobs, Distance_matrix)\n",
    "    Correspondence_matrix[Array_of_people[i].Homeland][d] += 1\n",
    "    Array_of_Jobs[n].busy += 1\n",
    "        "
   ]
  },
  {
   "cell_type": "code",
   "execution_count": null,
   "metadata": {},
   "outputs": [],
   "source": [
    "Correspondence_matrix"
   ]
  }
 ],
 "metadata": {
  "kernelspec": {
   "display_name": "Python 3",
   "language": "python",
   "name": "python3"
  },
  "language_info": {
   "codemirror_mode": {
    "name": "ipython",
    "version": 3
   },
   "file_extension": ".py",
   "mimetype": "text/x-python",
   "name": "python",
   "nbconvert_exporter": "python",
   "pygments_lexer": "ipython3",
   "version": "3.12.3"
  }
 },
 "nbformat": 4,
 "nbformat_minor": 2
}
